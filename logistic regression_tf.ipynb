{
 "cells": [
  {
   "cell_type": "code",
   "execution_count": 3,
   "metadata": {},
   "outputs": [],
   "source": [
    "import tensorflow as tf\n",
    "import numpy as np\n",
    "import matplotlib.pyplot as plt"
   ]
  },
  {
   "cell_type": "code",
   "execution_count": 4,
   "metadata": {},
   "outputs": [],
   "source": [
    "#BUILDING GRAPH\n",
    "m = tf.Variable(0.)\n",
    "b = tf.Variable(0.)\n",
    "\n",
    "X = tf.placeholder(dtype=tf.float32)\n",
    "Y = tf.placeholder(dtype=tf.float32)\n",
    "\n",
    "#hypothesis function\n",
    "y_p = m*X + b\n",
    "\n",
    "#loss/cost\n",
    "loss = tf.reduce_mean((y_p-Y)**2)\n",
    "\n",
    "#optimizer\n",
    "optimizer = tf.train.GradientDescentOptimizer(learning_rate=0.0001)\n",
    "train = optimizer.minimize(loss)\n",
    "\n",
    "#initializer\n",
    "init = tf.global_variables_initializer()"
   ]
  },
  {
   "cell_type": "code",
   "execution_count": 5,
   "metadata": {},
   "outputs": [],
   "source": [
    "#DATASET\n",
    "X_train = np.arange(50)\n",
    "Y_train = 5*X_train + 8  + 10*(2*np.random.rand(50)-1)"
   ]
  },
  {
   "cell_type": "code",
   "execution_count": 6,
   "metadata": {},
   "outputs": [
    {
     "data": {
      "image/png": "[encoded data removed]",
      "text/plain": [
       "<Figure size 432x288 with 1 Axes>"
      ]
     },
     "metadata": {
      "needs_background": "light"
     },
     "output_type": "display_data"
    }
   ],
   "source": [
    "plt.scatter(X_train, Y_train)\n",
    "plt.show()"
   ]
  },
  {
   "cell_type": "code",
   "execution_count": 22,
   "metadata": {},
   "outputs": [
    {
     "name": "stdout",
     "output_type": "stream",
     "text": [
      "cost : 22406.92578125, m : 0.8503310084342957, b:0.026176266372203827\n",
      "cost : 47.958106994628906, m : 5.252723217010498, b:0.19956597685813904\n",
      "cost : 47.800323486328125, m : 5.251520156860352, b:0.23926551640033722\n",
      "cost : 47.6441650390625, m : 5.250323295593262, b:0.2787611186504364\n",
      "cost : 47.48960494995117, m : 5.249130725860596, b:0.31805408000946045\n",
      "cost : 47.33663558959961, m : 5.247945308685303, b:0.3571459650993347\n",
      "cost : 47.18522644042969, m : 5.246767044067383, b:0.39603719115257263\n",
      "cost : 47.035396575927734, m : 5.245594501495361, b:0.43472856283187866\n",
      "cost : 46.8870735168457, m : 5.244427680969238, b:0.4732212424278259\n",
      "cost : 46.740299224853516, m : 5.243267059326172, b:0.5115159153938293\n",
      "\n",
      "final values\n",
      "cost : 46.596439361572266, m : 5.242124080657959, b:0.5492339134216309\n"
     ]
    }
   ],
   "source": [
    "#EXECUTION OF GRAPH\n",
    "\n",
    "n_epochs = 1000\n",
    "\n",
    "with tf.Session() as sess:\n",
    "    \n",
    "    #Initialize Variables\n",
    "    sess.run(init)\n",
    "    \n",
    "    \n",
    "    for i in range(n_epochs):\n",
    "        train_e, loss_e, m_e, b_e = sess.run([train,loss,m,b],feed_dict={X:X_train, Y:Y_train})\n",
    "        \n",
    "        if(i%100==0):\n",
    "            print('cost : {}, m : {}, b:{}'.format(loss_e, m_e, b_e))\n",
    "    \n",
    "    print('\\nfinal values')\n",
    "    print('cost : {}, m : {}, b:{}'.format(loss_e, m_e, b_e))"
   ]
  },
  {
   "cell_type": "code",
   "execution_count": 23,
   "metadata": {
    "scrolled": true
   },
   "outputs": [
    {
     "data": {
      "image/png": "[encoded data removed]",
      "text/plain": [
       "<Figure size 432x288 with 1 Axes>"
      ]
     },
     "metadata": {
      "needs_background": "light"
     },
     "output_type": "display_data"
    }
   ],
   "source": [
    "plt.scatter(X_train, Y_train)\n",
    "plt.plot(X_train, m_e*X_train)\n",
    "plt.show()"
   ]
  },
  {
   "cell_type": "code",
   "execution_count": null,
   "metadata": {},
   "outputs": [],
   "source": []
  }
 ],
 "metadata": {
  "kernelspec": {
   "display_name": "Python 3",
   "language": "python",
   "name": "python3"
  },
  "language_info": {
   "codemirror_mode": {
    "name": "ipython",
    "version": 3
   },
   "file_extension": ".py",
   "mimetype": "text/x-python",
   "name": "python",
   "nbconvert_exporter": "python",
   "pygments_lexer": "ipython3",
   "version": "3.7.3"
  }
 },
 "nbformat": 4,
 "nbformat_minor": 2
}
