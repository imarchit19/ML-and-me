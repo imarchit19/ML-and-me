{
 "cells": [
  {
   "cell_type": "code",
   "execution_count": 1,
   "metadata": {},
   "outputs": [],
   "source": [
    "import numpy as np\n",
    "import matplotlib.pyplot as plt"
   ]
  },
  {
   "cell_type": "code",
   "execution_count": 2,
   "metadata": {},
   "outputs": [],
   "source": [
    "mean1 = np.array([5,5])\n",
    "cov1 = np.array([[1,0],[0,1]])\n",
    "class1 = np.random.multivariate_normal(mean1, cov1, 200)"
   ]
  },
  {
   "cell_type": "code",
   "execution_count": 3,
   "metadata": {},
   "outputs": [],
   "source": [
    "mean2 = np.array([8,8])\n",
    "cov2 = np.array([[1,0],[0,1]])\n",
    "class2 = np.random.multivariate_normal(mean2, cov2, 200)"
   ]
  },
  {
   "cell_type": "code",
   "execution_count": 4,
   "metadata": {},
   "outputs": [
    {
     "data": {
      "image/png": "[encoded data removed]",
      "text/plain": [
       "<Figure size 720x576 with 1 Axes>"
      ]
     },
     "metadata": {
      "needs_background": "light"
     },
     "output_type": "display_data"
    }
   ],
   "source": [
    "plt.figure(figsize=(10,8))\n",
    "plt.scatter(class1[:,0], class1[:,1])\n",
    "plt.scatter(class2[:,0], class2[:,1])\n",
    "plt.show()"
   ]
  },
  {
   "cell_type": "code",
   "execution_count": 5,
   "metadata": {},
   "outputs": [],
   "source": [
    "data_X = np.append(class1, class2, axis=0)\n",
    "data_Y = np.append(np.zeros(200), np.ones(200))"
   ]
  },
  {
   "cell_type": "code",
   "execution_count": 6,
   "metadata": {},
   "outputs": [],
   "source": [
    "import tensorflow as tf"
   ]
  },
  {
   "cell_type": "code",
   "execution_count": 7,
   "metadata": {},
   "outputs": [
    {
     "name": "stderr",
     "output_type": "stream",
     "text": [
      "WARNING: Logging before flag parsing goes to stderr.\n",
      "W0903 11:42:42.196828  1644 deprecation.py:323] From C:\\Users\\hp\\Anaconda3\\lib\\site-packages\\tensorflow\\python\\ops\\nn_impl.py:180: add_dispatch_support.<locals>.wrapper (from tensorflow.python.ops.array_ops) is deprecated and will be removed in a future version.\n",
      "Instructions for updating:\n",
      "Use tf.where in 2.0, which has the same broadcast rule as np.where\n"
     ]
    }
   ],
   "source": [
    "X = tf.placeholder(dtype=np.float32)\n",
    "Y = tf.placeholder(dtype=np.float32)\n",
    "\n",
    "m = tf.Variable(5+tf.random_normal(shape=[2,1]))\n",
    "b = tf.Variable(tf.random_normal(shape=[1,1]))\n",
    "\n",
    "#hypothesis\n",
    "z = tf.matmul(X,m)+b\n",
    "\n",
    "#cost\n",
    "loss = tf.reduce_mean(tf.nn.sigmoid_cross_entropy_with_logits(logits=z, labels=Y))\n",
    "\n",
    "#optimizer\n",
    "optimizer = tf.train.GradientDescentOptimizer(learning_rate=0.01)\n",
    "train = optimizer.minimize(loss)\n",
    "\n",
    "#initializer\n",
    "init = tf.global_variables_initializer()"
   ]
  },
  {
   "cell_type": "code",
   "execution_count": 8,
   "metadata": {
    "scrolled": true
   },
   "outputs": [
    {
     "name": "stdout",
     "output_type": "stream",
     "text": [
      "37.265694\n",
      "37.051495\n",
      "36.837296\n",
      "36.6231\n",
      "36.4089\n",
      "36.194683\n",
      "35.980457\n",
      "35.766254\n",
      "35.55207\n",
      "35.337864\n",
      "35.12363\n",
      "34.909424\n",
      "34.695225\n",
      "34.481003\n",
      "34.266815\n",
      "34.052593\n",
      "33.8384\n",
      "33.624207\n",
      "33.409985\n",
      "33.19578\n",
      "32.98157\n",
      "32.767357\n",
      "32.553154\n",
      "32.338924\n",
      "32.12475\n",
      "31.910507\n",
      "31.6963\n",
      "31.482098\n",
      "31.267881\n",
      "31.053684\n",
      "30.839476\n",
      "30.62525\n",
      "30.411043\n",
      "30.196863\n",
      "29.982653\n",
      "29.768435\n",
      "29.554228\n",
      "29.34002\n",
      "29.125813\n",
      "28.911606\n",
      "28.697384\n",
      "28.483185\n",
      "28.268982\n",
      "28.054762\n",
      "27.840557\n",
      "27.626335\n",
      "27.41213\n",
      "27.197926\n",
      "26.983734\n",
      "26.769512\n",
      "26.5553\n",
      "26.341082\n",
      "26.12687\n",
      "25.91266\n",
      "25.698467\n",
      "25.484262\n",
      "25.270042\n",
      "25.055832\n",
      "24.84163\n",
      "24.627419\n",
      "24.41322\n",
      "24.199\n",
      "23.984781\n",
      "23.77059\n",
      "23.556376\n",
      "23.342167\n",
      "23.127966\n",
      "22.913744\n",
      "22.699541\n",
      "22.485346\n",
      "22.271103\n",
      "22.056913\n",
      "21.842705\n",
      "21.628496\n",
      "21.414278\n",
      "21.200079\n",
      "20.985863\n",
      "20.771652\n",
      "20.557451\n",
      "20.34324\n",
      "20.129038\n",
      "19.914818\n",
      "19.700615\n",
      "19.486416\n",
      "19.272203\n",
      "19.057995\n",
      "18.843771\n",
      "18.629566\n",
      "18.415356\n",
      "18.201153\n",
      "17.986929\n",
      "17.772726\n",
      "17.558512\n",
      "17.344318\n",
      "17.130096\n",
      "16.915886\n",
      "16.701681\n",
      "16.487473\n",
      "16.273272\n",
      "16.059055\n",
      "FINAL 16.059055 [[2.1899166]\n",
      " [2.619773 ]] [[0.3786873]]\n"
     ]
    }
   ],
   "source": [
    "#EXECUTION OF GRAPH\n",
    "\n",
    "n_epochs = 100\n",
    "\n",
    "with tf.Session() as sess:\n",
    "    \n",
    "    #Initialize Variables\n",
    "    sess.run(init)\n",
    "    \n",
    "    for i in range(n_epochs):\n",
    "        train_e, loss_e, m_e, b_e = sess.run([train,loss,m,b],feed_dict={X:data_X,Y:data_Y})\n",
    "        print(loss_e)\n",
    "    print(\"FINAL\", loss_e, m_e, b_e)"
   ]
  },
  {
   "cell_type": "code",
   "execution_count": 9,
   "metadata": {},
   "outputs": [
    {
     "data": {
      "text/plain": [
       "(array([[2.1899166],\n",
       "        [2.619773 ]], dtype=float32), array([[0.3786873]], dtype=float32))"
      ]
     },
     "execution_count": 9,
     "metadata": {},
     "output_type": "execute_result"
    }
   ],
   "source": [
    "m_e, b_e"
   ]
  },
  {
   "cell_type": "code",
   "execution_count": 10,
   "metadata": {},
   "outputs": [
    {
     "name": "stderr",
     "output_type": "stream",
     "text": [
      "C:\\Users\\hp\\Anaconda3\\lib\\site-packages\\matplotlib\\contour.py:1243: UserWarning: No contour levels were found within the data range.\n",
      "  warnings.warn(\"No contour levels were found\"\n"
     ]
    },
    {
     "data": {
      "image/png": "[encoded data removed]",
      "text/plain": [
       "<Figure size 576x432 with 1 Axes>"
      ]
     },
     "metadata": {
      "needs_background": "light"
     },
     "output_type": "display_data"
    }
   ],
   "source": [
    "#PLOTTING DECISION BOUNDARY\n",
    "\n",
    "x = np.linspace(0, 10.0, 100)\n",
    "y = np.linspace(0, 10.0, 100)\n",
    "Xp, Yp = np.meshgrid(x,y)\n",
    "F = Xp*m_e[0] + Yp*m_e[1] + b_e\n",
    "\n",
    "plt.figure(figsize=(8,6))\n",
    "plt.contour(Xp,Yp,F,[0])\n",
    "\n",
    "plt.scatter(class1[:,0], class1[:,1])\n",
    "plt.scatter(class2[:,0], class2[:,1])\n",
    "\n",
    "plt.show()"
   ]
  }
 ],
 "metadata": {
  "kernelspec": {
   "display_name": "Python 3",
   "language": "python",
   "name": "python3"
  },
  "language_info": {
   "codemirror_mode": {
    "name": "ipython",
    "version": 3
   },
   "file_extension": ".py",
   "mimetype": "text/x-python",
   "name": "python",
   "nbconvert_exporter": "python",
   "pygments_lexer": "ipython3",
   "version": "3.7.3"
  }
 },
 "nbformat": 4,
 "nbformat_minor": 2
}
