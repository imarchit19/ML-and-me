{
 "cells": [
  {
   "cell_type": "code",
   "execution_count": 30,
   "metadata": {},
   "outputs": [],
   "source": [
    "import tensorflow as tf\n",
    "import numpy as np\n",
    "import matplotlib.pyplot as plt"
   ]
  },
  {
   "cell_type": "code",
   "execution_count": 31,
   "metadata": {},
   "outputs": [],
   "source": [
    "#BUILDING GRAPH\n",
    "m = tf.Variable(0.)\n",
    "b = tf.Variable(0.)\n",
    "\n",
    "X = tf.placeholder(dtype=tf.float32)\n",
    "Y = tf.placeholder(dtype=tf.float32)\n",
    "\n",
    "#hypothesis function\n",
    "y_p = m*X + b\n",
    "\n",
    "#loss/cost\n",
    "loss = tf.reduce_mean((y_p-Y)**2)\n",
    "\n",
    "#optimizer\n",
    "optimizer = tf.train.GradientDescentOptimizer(learning_rate=0.0001)\n",
    "train = optimizer.minimize(loss)\n",
    "\n",
    "#initializer\n",
    "init = tf.global_variables_initializer()"
   ]
  },
  {
   "cell_type": "code",
   "execution_count": 32,
   "metadata": {},
   "outputs": [],
   "source": [
    "#DATASET\n",
    "X_train = np.arange(50)\n",
    "Y_train = 5*X_train + 8  + 10*(2*np.random.rand(50)-1)"
   ]
  },
  {
   "cell_type": "code",
   "execution_count": 33,
   "metadata": {},
   "outputs": [
    {
     "data": {
      "image/png": "[encoded data removed]",
      "text/plain": [
       "<Figure size 432x288 with 1 Axes>"
      ]
     },
     "metadata": {
      "needs_background": "light"
     },
     "output_type": "display_data"
    }
   ],
   "source": [
    "plt.scatter(X_train, Y_train)\n",
    "plt.show()"
   ]
  },
  {
   "cell_type": "code",
   "execution_count": 34,
   "metadata": {},
   "outputs": [
    {
     "name": "stdout",
     "output_type": "stream",
     "text": [
      "cost : 21496.517578125, m : 0.8328017592430115, b:0.025660337880253792\n",
      "cost : 49.8397331237793, m : 5.144372463226318, b:0.19783657789230347\n",
      "cost : 49.66958999633789, m : 5.143122673034668, b:0.23906642198562622\n",
      "cost : 49.50115203857422, m : 5.141879558563232, b:0.280084490776062\n",
      "cost : 49.3344841003418, m : 5.140640735626221, b:0.3208923935890198\n",
      "cost : 49.16948699951172, m : 5.139410495758057, b:0.36149126291275024\n",
      "cost : 49.00619125366211, m : 5.138186454772949, b:0.40188151597976685\n",
      "cost : 48.844547271728516, m : 5.136968612670898, b:0.4420642554759979\n",
      "cost : 48.6845817565918, m : 5.135756969451904, b:0.48204055428504944\n",
      "cost : 48.526248931884766, m : 5.134552001953125, b:0.5218114256858826\n",
      "\n",
      "final values\n",
      "cost : 48.371131896972656, m : 5.133364677429199, b:0.5609833598136902\n"
     ]
    }
   ],
   "source": [
    "#EXECUTION OF GRAPH\n",
    "\n",
    "n_epochs = 1000\n",
    "\n",
    "with tf.Session() as sess:\n",
    "    \n",
    "    #Initialize Variables\n",
    "    sess.run(init)\n",
    "    \n",
    "    \n",
    "    for i in range(n_epochs):\n",
    "        train_e, loss_e, m_e, b_e = sess.run([train,loss,m,b],feed_dict={X:X_train, Y:Y_train})\n",
    "        \n",
    "        if(i%100==0):\n",
    "            print('cost : {}, m : {}, b:{}'.format(loss_e, m_e, b_e))\n",
    "    \n",
    "    print('\\nfinal values')\n",
    "    print('cost : {}, m : {}, b:{}'.format(loss_e, m_e, b_e))"
   ]
  },
  {
   "cell_type": "code",
   "execution_count": 35,
   "metadata": {
    "scrolled": true
   },
   "outputs": [
    {
     "data": {
      "image/png": "[encoded data removed]",
      "text/plain": [
       "<Figure size 432x288 with 1 Axes>"
      ]
     },
     "metadata": {
      "needs_background": "light"
     },
     "output_type": "display_data"
    }
   ],
   "source": [
    "plt.scatter(X_train, Y_train)\n",
    "plt.plot(X_train, m_e*X_train)\n",
    "plt.show()"
   ]
  },
  {
   "cell_type": "code",
   "execution_count": 50,
   "metadata": {},
   "outputs": [
    {
     "data": {
      "image/png": "[encoded data removed]",
      "text/plain": [
       "<Figure size 432x288 with 1 Axes>"
      ]
     },
     "metadata": {
      "needs_background": "light"
     },
     "output_type": "display_data"
    }
   ],
   "source": [
    "#DATASET\n",
    "X_train2 = np.arange(50)\n",
    "Y_train2 = 4*X_train2**2 + 5*X_train2 + 8  + 1000*(2*np.random.rand(50)-1)\n",
    "plt.scatter(X_train2, Y_train2)\n",
    "plt.show()"
   ]
  },
  {
   "cell_type": "code",
   "execution_count": 51,
   "metadata": {},
   "outputs": [
    {
     "name": "stdout",
     "output_type": "stream",
     "text": [
      "cost : 21517348.0, m : 0.025361578911542892, b:1.0034698247909546\n",
      "cost : 333211.03125, m : 0.10827699303627014, b:4.219437599182129\n",
      "cost : 333210.6875, m : 0.10996397584676743, b:4.219394683837891\n",
      "cost : 333210.46875, m : 0.11164925247430801, b:4.219351768493652\n",
      "cost : 333210.09375, m : 0.1133328303694725, b:4.219308853149414\n",
      "cost : 333209.75, m : 0.11501457542181015, b:4.219265937805176\n",
      "cost : 333209.53125, m : 0.1166946291923523, b:4.219223499298096\n",
      "cost : 333209.1875, m : 0.11837296932935715, b:4.219180583953857\n",
      "cost : 333208.875, m : 0.12004950642585754, b:4.219137668609619\n",
      "cost : 333208.5625, m : 0.12172435224056244, b:4.219095230102539\n",
      "\n",
      "final values\n",
      "cost : 333208.25, m : 0.12338075041770935, b:4.219052791595459\n"
     ]
    }
   ],
   "source": [
    "#BUILDING GRAPH\n",
    "m1 = tf.Variable(0.)\n",
    "m2 = tf.Variable(0.)\n",
    "b = tf.Variable(0.)\n",
    "\n",
    "X = tf.placeholder(dtype=tf.float32)\n",
    "Y = tf.placeholder(dtype=tf.float32)\n",
    "\n",
    "#hypothesis function\n",
    "y_p = m2*(X**2)+m1*X + b\n",
    "\n",
    "#loss/cost\n",
    "loss = tf.reduce_mean((y_p-Y)**2)\n",
    "\n",
    "#optimizer\n",
    "optimizer = tf.train.GradientDescentOptimizer(learning_rate=0.0000001)\n",
    "train = optimizer.minimize(loss)\n",
    "\n",
    "#initializer\n",
    "init = tf.global_variables_initializer()\n",
    "\n",
    "#EXECUTION OF GRAPH\n",
    "\n",
    "n_epochs = 1000\n",
    "\n",
    "with tf.Session() as sess:\n",
    "    \n",
    "    #Initialize Variables\n",
    "    sess.run(init)\n",
    "    \n",
    "    \n",
    "    for i in range(n_epochs):\n",
    "        train_e, loss_e, m1_e,m2_e, b_e = sess.run([train,loss,m1,m2,b],feed_dict={X:X_train2, Y:Y_train2})\n",
    "        \n",
    "        if(i%100==0):\n",
    "            print('cost : {}, m : {}, b:{}'.format(loss_e,m1_e, m2_e, b_e))\n",
    "    \n",
    "    print('\\nfinal values')\n",
    "    print('cost : {}, m : {}, b:{}'.format(loss_e, m1_e,m2_e, b_e))"
   ]
  },
  {
   "cell_type": "code",
   "execution_count": 52,
   "metadata": {},
   "outputs": [
    {
     "data": {
      "image/png": "[encoded data removed]",
      "text/plain": [
       "<Figure size 432x288 with 1 Axes>"
      ]
     },
     "metadata": {
      "needs_background": "light"
     },
     "output_type": "display_data"
    }
   ],
   "source": [
    "plt.scatter(X_train2, Y_train2)\n",
    "plt.plot(X_train2,(m2_e*X_train2**2), m1_e*X_train2, c = 'r')\n",
    "plt.show()"
   ]
  },
  {
   "cell_type": "code",
   "execution_count": null,
   "metadata": {},
   "outputs": [],
   "source": []
  }
 ],
 "metadata": {
  "kernelspec": {
   "display_name": "Python 3",
   "language": "python",
   "name": "python3"
  },
  "language_info": {
   "codemirror_mode": {
    "name": "ipython",
    "version": 3
   },
   "file_extension": ".py",
   "mimetype": "text/x-python",
   "name": "python",
   "nbconvert_exporter": "python",
   "pygments_lexer": "ipython3",
   "version": "3.7.3"
  }
 },
 "nbformat": 4,
 "nbformat_minor": 2
}
