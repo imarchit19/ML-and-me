{
 "cells": [
  {
   "cell_type": "code",
   "execution_count": 10,
   "metadata": {},
   "outputs": [],
   "source": [
    "import numpy as np"
   ]
  },
  {
   "cell_type": "code",
   "execution_count": 11,
   "metadata": {},
   "outputs": [
    {
     "data": {
      "text/plain": [
       "((4, 2), (4, 1))"
      ]
     },
     "execution_count": 11,
     "metadata": {},
     "output_type": "execute_result"
    }
   ],
   "source": [
    "X=np.array([[0,0],[0,1],[1,0],[1,1]])\n",
    "Y=np.array([[0,0,0,1]]).T\n",
    "X.shape,Y.shape"
   ]
  },
  {
   "cell_type": "code",
   "execution_count": 12,
   "metadata": {},
   "outputs": [],
   "source": [
    "def sig(z):\n",
    "    return 1/(1+np.exp(-z))"
   ]
  },
  {
   "cell_type": "code",
   "execution_count": 13,
   "metadata": {},
   "outputs": [],
   "source": [
    "def derivativeSig(z):\n",
    "    return sig(z)*(1-sig(z))\n"
   ]
  },
  {
   "cell_type": "code",
   "execution_count": 14,
   "metadata": {},
   "outputs": [],
   "source": [
    "wh=2*np.random.random((2,2))-1\n",
    "bh=2*np.random.random((1,2))-1\n",
    "wo=2*np.random.random((2,1))-1\n",
    "bo=np.random.random((1,1))-1\n"
   ]
  },
  {
   "cell_type": "code",
   "execution_count": 15,
   "metadata": {},
   "outputs": [
    {
     "data": {
      "text/plain": [
       "array([[0.57662199],\n",
       "       [0.58927933],\n",
       "       [0.61310269],\n",
       "       [0.6228421 ]])"
      ]
     },
     "execution_count": 15,
     "metadata": {},
     "output_type": "execute_result"
    }
   ],
   "source": [
    "#forward propoagation with hidden layer\n",
    "output0=X\n",
    "outputHidden=sig(np.dot(output0,wh)+bh)\n",
    "output=sig(np.dot(outputHidden,wo)+bo)\n",
    "output"
   ]
  },
  {
   "cell_type": "code",
   "execution_count": 19,
   "metadata": {},
   "outputs": [
    {
     "data": {
      "text/plain": [
       "(array([[0.00404825],\n",
       "        [0.05891108],\n",
       "        [0.059131  ],\n",
       "        [0.91334742]]), array([[-2.44921595,  2.23686172],\n",
       "        [-2.54573803,  2.13532266]]), array([[ 3.36611589, -2.84871977]]), array([[-5.22702892],\n",
       "        [ 4.78298725]]), array([[-0.71467466]]))"
      ]
     },
     "execution_count": 19,
     "metadata": {},
     "output_type": "execute_result"
    }
   ],
   "source": [
    "lr=0.01\n",
    "for iter in range(10000):\n",
    "    output0=X\n",
    "    inputHidden=np.dot(output0,wh)+bh\n",
    "    outputHidden=sig(inputHidden)\n",
    "    inputForOutputLayer=np.dot(outputHidden,wo)+bo\n",
    "    output=sig(inputForOutputLayer)\n",
    "    First_term_output_layer=output-Y\n",
    "    second_term_output_layer=derivativeSig(inputForOutputLayer)\n",
    "    First_two_output_layer=First_term_output_layer*second_term_output_layer\n",
    "\n",
    "    first_term_hidden_layer=np.dot(First_two_output_layer,wo.T)\n",
    "    second_term_hidden_layer=derivativeSig(inputHidden)\n",
    "    First_two_hidden_layer=first_term_hidden_layer*second_term_hidden_layer\n",
    "\n",
    "    changes_output=np.dot(outputHidden.T,First_two_output_layer)\n",
    "    changes_output_bias=np.sum(First_two_output_layer, axis= 0, keepdims=True)\n",
    "\n",
    "    changes_hidden=np.dot(output0.T,First_two_hidden_layer)\n",
    "    changes_hidden_bias=np.sum(First_two_hidden_layer, axis= 0, keepdims=True)\n",
    "\n",
    "    wo=wo-lr* changes_output \n",
    "    bo=bo-lr*  changes_output_bias\n",
    "    wh=wh-lr* changes_hidden\n",
    "    bh=bh-lr*  changes_hidden_bias\n",
    "\n",
    "output0=X\n",
    "inputHidden=np.dot(output0,wh)+bh\n",
    "outputHidden=sig(inputHidden)\n",
    "inputForOutputLayer=np.dot(outputHidden,wo)+bo\n",
    "output=sig(inputForOutputLayer)\n",
    "output,wh,bh,wo,bo"
   ]
  },
  {
   "cell_type": "code",
   "execution_count": null,
   "metadata": {},
   "outputs": [],
   "source": []
  },
  {
   "cell_type": "code",
   "execution_count": null,
   "metadata": {},
   "outputs": [],
   "source": []
  },
  {
   "cell_type": "code",
   "execution_count": null,
   "metadata": {},
   "outputs": [],
   "source": []
  },
  {
   "cell_type": "code",
   "execution_count": null,
   "metadata": {},
   "outputs": [],
   "source": []
  }
 ],
 "metadata": {
  "kernelspec": {
   "display_name": "Python 3",
   "language": "python",
   "name": "python3"
  },
  "language_info": {
   "codemirror_mode": {
    "name": "ipython",
    "version": 3
   },
   "file_extension": ".py",
   "mimetype": "text/x-python",
   "name": "python",
   "nbconvert_exporter": "python",
   "pygments_lexer": "ipython3",
   "version": "3.7.3"
  }
 },
 "nbformat": 4,
 "nbformat_minor": 2
}
