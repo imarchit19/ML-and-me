{
 "cells": [
  {
   "cell_type": "code",
   "execution_count": 1,
   "metadata": {},
   "outputs": [],
   "source": [
    "from sklearn.linear_model import LinearRegression\n",
    "import pandas as pd\n",
    "import numpy as np"
   ]
  },
  {
   "cell_type": "code",
   "execution_count": 2,
   "metadata": {},
   "outputs": [],
   "source": [
    "dataset = pd.read_csv(\"SaratogaHouses.csv\")"
   ]
  },
  {
   "cell_type": "code",
   "execution_count": 3,
   "metadata": {},
   "outputs": [],
   "source": [
    "X = dataset['livingArea'].values\n",
    "y =dataset ['price'].values"
   ]
  },
  {
   "cell_type": "code",
   "execution_count": 4,
   "metadata": {},
   "outputs": [
    {
     "data": {
      "text/plain": [
       "array([ 906, 1953, 1944, 1944,  840, 1152, 2752, 1662, 1632, 1416],\n",
       "      dtype=int64)"
      ]
     },
     "execution_count": 4,
     "metadata": {},
     "output_type": "execute_result"
    }
   ],
   "source": [
    "X[:10]"
   ]
  },
  {
   "cell_type": "code",
   "execution_count": 5,
   "metadata": {},
   "outputs": [],
   "source": [
    "X = X.reshape(-1,1)"
   ]
  },
  {
   "cell_type": "code",
   "execution_count": 6,
   "metadata": {},
   "outputs": [
    {
     "data": {
      "text/plain": [
       "LinearRegression(copy_X=True, fit_intercept=True, n_jobs=None,\n",
       "         normalize=False)"
      ]
     },
     "execution_count": 6,
     "metadata": {},
     "output_type": "execute_result"
    }
   ],
   "source": [
    "reg = LinearRegression()\n",
    "reg.fit(X,y)"
   ]
  },
  {
   "cell_type": "code",
   "execution_count": 7,
   "metadata": {},
   "outputs": [],
   "source": [
    "y_pred = reg.predict(X)"
   ]
  },
  {
   "cell_type": "code",
   "execution_count": 8,
   "metadata": {},
   "outputs": [
    {
     "name": "stdout",
     "output_type": "stream",
     "text": [
      "[132500 181115 109000 155000  86060 120000 153000 170000  90000 122900]\n",
      "[115928.4169181  234367.71823171 233349.61535509 233349.61535509\n",
      " 108462.32915621 143756.56221241 324752.62916731 201449.05855429\n",
      " 198055.38229888 173620.91325997]\n"
     ]
    }
   ],
   "source": [
    "print(y[:10])\n",
    "print(y_pred[:10])"
   ]
  },
  {
   "cell_type": "code",
   "execution_count": 9,
   "metadata": {},
   "outputs": [],
   "source": [
    "from sklearn.model_selection import train_test_split"
   ]
  },
  {
   "cell_type": "code",
   "execution_count": 10,
   "metadata": {},
   "outputs": [],
   "source": [
    "x_train, x_test, y_train, y_test = train_test_split(X,y,test_size=0.2)"
   ]
  },
  {
   "cell_type": "code",
   "execution_count": 11,
   "metadata": {},
   "outputs": [
    {
     "name": "stdout",
     "output_type": "stream",
     "text": [
      "(1382, 1)\n",
      "(1382,)\n",
      "(346, 1)\n",
      "(346,)\n"
     ]
    }
   ],
   "source": [
    "print(x_train.shape)\n",
    "print(y_train.shape)\n",
    "print(x_test.shape)\n",
    "print(y_test.shape)"
   ]
  },
  {
   "cell_type": "code",
   "execution_count": 12,
   "metadata": {},
   "outputs": [
    {
     "name": "stdout",
     "output_type": "stream",
     "text": [
      "(1728, 1)\n",
      "(1728,)\n"
     ]
    }
   ],
   "source": [
    "print(X.shape)\n",
    "print(y.shape)"
   ]
  },
  {
   "cell_type": "code",
   "execution_count": 13,
   "metadata": {},
   "outputs": [
    {
     "data": {
      "text/plain": [
       "LinearRegression(copy_X=True, fit_intercept=True, n_jobs=None,\n",
       "         normalize=False)"
      ]
     },
     "execution_count": 13,
     "metadata": {},
     "output_type": "execute_result"
    }
   ],
   "source": [
    "reg_2 = LinearRegression()\n",
    "reg_2.fit(x_train,y_train)"
   ]
  },
  {
   "cell_type": "code",
   "execution_count": 14,
   "metadata": {},
   "outputs": [],
   "source": [
    "y_pred = reg_2.predict(x_test)"
   ]
  },
  {
   "cell_type": "code",
   "execution_count": 15,
   "metadata": {},
   "outputs": [
    {
     "name": "stdout",
     "output_type": "stream",
     "text": [
      "[194169.21861406 385339.6889083  116801.40475381 184273.33544589\n",
      " 195068.84435662 191695.24782202 184273.33544589 201816.03742583\n",
      " 239600.3186134  252532.43866271 117251.21762509 144239.98990192\n",
      " 147388.68000089 316068.50673109 246347.51168261 228354.99683138\n",
      " 136143.35821887 297626.17900859 318542.47752314 339233.86960204\n",
      " 375443.80574013 239150.50574212 381178.91984895 178200.8616836\n",
      " 202715.66316839 129733.52480312 279858.57059301 182474.08396077\n",
      " 159758.5339611  246797.32455389 322140.98049338 332711.58296847\n",
      " 211824.37381182 391074.80301712 312470.00376085 166280.82059467\n",
      " 460908.25128343 119162.92232803 214185.89138605 117251.21762509\n",
      " 189895.9963369  119950.09485277 171228.76217875 294252.58247399\n",
      " 230379.15475215 117251.21762509 169317.05747581 148288.30574345\n",
      " 119950.09485277 202265.85029711 352953.1621761  239600.3186134\n",
      " 133444.48099119 222394.97628692 209125.49658414 218459.11366321\n",
      " 221157.9908909  262765.68148435 316743.22603801 220258.36514833\n",
      " 189333.7302478  114102.52752612 202040.94386147 271087.21960304\n",
      " 294252.58247399 119950.09485277 195968.47009918 318542.47752314\n",
      " 217896.84757411 162007.5983175  149862.65079293 328775.72034477\n",
      " 181124.64534693 181462.00500039 180562.37925783 167630.25920851\n",
      " 181124.64534693 221607.80376218 187309.57232703 191920.15425766\n",
      " 225206.30673242 267376.26341497 171678.57505003 286043.49757312\n",
      " 205864.35326736 362174.32603735 210812.29485144 320791.54187954\n",
      " 297288.81935513 279296.30450391 221607.80376218 181124.64534693\n",
      " 131645.22950607 164931.38198083 323715.32554286 284019.33965235\n",
      " 202603.20995057 131420.32307043 181124.64534693 155147.95203047\n",
      " 163132.1304957  117251.21762509 149637.74435729 149637.74435729\n",
      " 206763.97900992 161107.97257494 275585.34831584 293915.22282053\n",
      " 323377.9658894  193719.40574278 211711.920594   195856.01688136\n",
      " 325289.67059234 117251.21762509 210812.29485144 229479.52900959\n",
      " 152673.98123843 399508.79435363 143340.36415936 264789.83940511\n",
      " 140416.58049604 224756.49386114 157509.4696047  191470.34138638\n",
      " 168529.88495107 160883.0661393  115451.96613997 137492.79683271\n",
      " 122648.97208045 239600.3186134  210137.57554452 262990.58791999\n",
      " 264002.66688037 168529.88495107 230828.96762343 143340.36415936\n",
      " 181124.64534693 227118.01143536 251970.17257361 147838.49287217\n",
      " 119950.09485277 109154.58594204 302574.12059268 181124.64534693\n",
      " 207438.69831684 342719.91935446 184273.33544589 242973.915148\n",
      " 276260.06762276 184948.05475281 274460.81613764 249496.20178157\n",
      " 220708.17801962 200241.69237635 138167.51613963 176738.96985194\n",
      " 220595.72480179 181124.64534693 199117.16019815 238250.87999956\n",
      " 303698.65277088 184273.33544589 227905.1839601   90262.44534825\n",
      " 187871.83841613 253544.5176231  257817.73990026 240837.30400942\n",
      " 144577.34955538 152336.62158497 281882.72851377 111853.46316972\n",
      " 195518.6572279  216997.22183155 146264.14782268 181012.19212911\n",
      " 177975.95524796 101057.95425899 181124.64534693 109154.58594204\n",
      " 249496.20178157 115901.77901125 218796.47331667 271087.21960304\n",
      " 186634.85302011 149637.74435729 291103.89237502 267488.71663279\n",
      " 180899.73891129 282107.63494941 161107.97257494 188771.4641587\n",
      " 217559.48792065 159758.5339611  138842.23544655 150762.27653549\n",
      " 191920.15425766 111853.46316972 128046.72653582 181124.64534693\n",
      " 283119.71390979 287617.8426226  106005.89584307 268388.34237535\n",
      " 116801.40475381 147613.58643653 153011.34089189 109154.58594204\n",
      " 248596.57603901 228130.09039574 264227.57331601 274460.81613764\n",
      " 229591.98222741 156384.9374265  277834.41267225 379267.21514601\n",
      " 339121.41638422 145139.61564448 101845.12678373 345756.15623561\n",
      " 254669.0498013  182249.17752513 202940.56960403 144239.98990192\n",
      " 198667.34732687 178425.76811924 302124.3077214  142665.64485244\n",
      " 153236.24732753 174714.81193118 253994.33049438 151774.35549587\n",
      " 158409.09534726 165156.28841647 305722.81069164 183373.70970333\n",
      " 184273.33544589 253094.70475181 331362.14435463 303023.93346396\n",
      " 291666.15846412 276709.88049404 253994.33049438 226893.10499972\n",
      " 222732.33594038 170216.68321837 168080.07207979 238925.59930648\n",
      " 162457.41118878 187422.02554485 182474.08396077 181012.19212911\n",
      " 234427.47059367 289529.54732554 269962.68742484 147950.94608999\n",
      " 165831.00772339 172803.10722824 186409.94658447 206089.259703\n",
      " 134344.10673375 263440.40079127 298863.16440461 200916.41168327\n",
      " 229479.52900959 179887.6599509  207663.60475248 274460.81613764\n",
      " 158634.0017829  214410.79782169 147838.49287217 253094.70475181\n",
      " 178425.76811924 169317.05747581 181012.19212911 270637.40673176\n",
      " 304373.3720778  205976.80648518 299088.07084025 155935.12455522\n",
      " 152786.43445625 181124.64534693 201928.49064365 162457.41118878\n",
      " 166280.82059467 304373.3720778  125797.66217942 217109.67504937\n",
      " 175614.43767374 194506.57826752 193044.68643586 157734.37604034\n",
      " 262765.68148435 203165.47603967 184273.33544589 153798.51341663\n",
      " 240050.13148468 116801.40475381 168529.88495107 251183.00004887\n",
      " 184273.33544589 181124.64534693 146264.14782268 117251.21762509\n",
      " 230266.70153433 180562.37925783 279408.75772173 209013.04336632\n",
      " 270187.59386048 273111.3775238  192145.0606933  132769.76168427\n",
      " 173252.92009952 125797.66217942 248596.57603901 268725.70202881\n",
      " 186747.30623793 117251.21762509 306847.34286984 151436.99584241\n",
      " 274460.81613764 347892.76737419 193719.40574278 388038.56613598\n",
      " 145589.42851576 117251.21762509 181124.64534693 149187.93148601\n",
      " 194169.21861406 116801.40475381 114102.52752612 230266.70153433\n",
      " 103756.83148667 128046.72653582  90262.44534825 200016.78594071\n",
      " 117251.21762509 340358.40178024 131870.13594171 254106.7837122\n",
      " 359025.63593838 120962.17381315 203952.64856441 230604.06118779\n",
      " 161332.87901058 208563.23049504]\n"
     ]
    }
   ],
   "source": [
    "print(y_pred)"
   ]
  },
  {
   "cell_type": "code",
   "execution_count": 16,
   "metadata": {},
   "outputs": [],
   "source": [
    "from sklearn.metrics import mean_squared_error"
   ]
  },
  {
   "cell_type": "code",
   "execution_count": 17,
   "metadata": {},
   "outputs": [],
   "source": [
    "mse = mean_squared_error(y_test,y_pred)"
   ]
  },
  {
   "cell_type": "code",
   "execution_count": 18,
   "metadata": {},
   "outputs": [],
   "source": [
    "rmse = np.sqrt(mse)"
   ]
  },
  {
   "cell_type": "code",
   "execution_count": 19,
   "metadata": {},
   "outputs": [
    {
     "name": "stdout",
     "output_type": "stream",
     "text": [
      "ROOT MEAN SQUARE 68364.88895573685\n"
     ]
    }
   ],
   "source": [
    "print(\"ROOT MEAN SQUARE\", rmse)"
   ]
  },
  {
   "cell_type": "code",
   "execution_count": 20,
   "metadata": {},
   "outputs": [],
   "source": [
    "from sklearn.preprocessing import StandardScaler"
   ]
  },
  {
   "cell_type": "code",
   "execution_count": 21,
   "metadata": {},
   "outputs": [],
   "source": [
    "std = StandardScaler()"
   ]
  },
  {
   "cell_type": "code",
   "execution_count": 22,
   "metadata": {},
   "outputs": [
    {
     "name": "stderr",
     "output_type": "stream",
     "text": [
      "C:\\Users\\hp\\Anaconda3\\envs\\mlcc\\lib\\site-packages\\sklearn\\utils\\validation.py:590: DataConversionWarning: Data with input dtype int64 was converted to float64 by StandardScaler.\n",
      "  warnings.warn(msg, DataConversionWarning)\n",
      "C:\\Users\\hp\\Anaconda3\\envs\\mlcc\\lib\\site-packages\\sklearn\\utils\\validation.py:590: DataConversionWarning: Data with input dtype int64 was converted to float64 by StandardScaler.\n",
      "  warnings.warn(msg, DataConversionWarning)\n"
     ]
    }
   ],
   "source": [
    "X = std.fit_transform(X)"
   ]
  },
  {
   "cell_type": "code",
   "execution_count": 23,
   "metadata": {},
   "outputs": [
    {
     "data": {
      "text/plain": [
       "array([[-1.36985441],\n",
       "       [ 0.31951971],\n",
       "       [ 0.30499787],\n",
       "       [ 0.30499787],\n",
       "       [-1.47634791],\n",
       "       [-0.9729241 ],\n",
       "       [ 1.60873645],\n",
       "       [-0.1500198 ],\n",
       "       [-0.19842594],\n",
       "       [-0.54695011]])"
      ]
     },
     "execution_count": 23,
     "metadata": {},
     "output_type": "execute_result"
    }
   ],
   "source": [
    "X[:10]"
   ]
  },
  {
   "cell_type": "code",
   "execution_count": 24,
   "metadata": {},
   "outputs": [],
   "source": [
    "y = y.reshape(-1,1)"
   ]
  },
  {
   "cell_type": "code",
   "execution_count": 25,
   "metadata": {},
   "outputs": [
    {
     "name": "stderr",
     "output_type": "stream",
     "text": [
      "C:\\Users\\hp\\Anaconda3\\envs\\mlcc\\lib\\site-packages\\sklearn\\utils\\validation.py:590: DataConversionWarning: Data with input dtype int64 was converted to float64 by StandardScaler.\n",
      "  warnings.warn(msg, DataConversionWarning)\n",
      "C:\\Users\\hp\\Anaconda3\\envs\\mlcc\\lib\\site-packages\\sklearn\\utils\\validation.py:590: DataConversionWarning: Data with input dtype int64 was converted to float64 by StandardScaler.\n",
      "  warnings.warn(msg, DataConversionWarning)\n"
     ]
    }
   ],
   "source": [
    "y = std.fit_transform(y)"
   ]
  },
  {
   "cell_type": "code",
   "execution_count": 26,
   "metadata": {},
   "outputs": [
    {
     "data": {
      "text/plain": [
       "array([[-0.80748259],\n",
       "       [-0.31349249],\n",
       "       [-1.04627242],\n",
       "       [-0.57885403],\n",
       "       [-1.27937193],\n",
       "       [-0.93449845],\n",
       "       [-0.59917657],\n",
       "       [-0.42643499],\n",
       "       [-1.23933653],\n",
       "       [-0.90503077]])"
      ]
     },
     "execution_count": 26,
     "metadata": {},
     "output_type": "execute_result"
    }
   ],
   "source": [
    "y[:10]"
   ]
  },
  {
   "cell_type": "code",
   "execution_count": 27,
   "metadata": {},
   "outputs": [],
   "source": [
    "x_train, x_test, y_train, y_test = train_test_split(X,y, test_size=0.2)"
   ]
  },
  {
   "cell_type": "code",
   "execution_count": 28,
   "metadata": {},
   "outputs": [],
   "source": [
    "reg_3 = LinearRegression()"
   ]
  },
  {
   "cell_type": "code",
   "execution_count": 29,
   "metadata": {},
   "outputs": [
    {
     "data": {
      "text/plain": [
       "LinearRegression(copy_X=True, fit_intercept=True, n_jobs=None,\n",
       "         normalize=False)"
      ]
     },
     "execution_count": 29,
     "metadata": {},
     "output_type": "execute_result"
    }
   ],
   "source": [
    "reg_3.fit(x_train,y_train)"
   ]
  },
  {
   "cell_type": "code",
   "execution_count": 30,
   "metadata": {},
   "outputs": [],
   "source": [
    "y_pred = reg_3.predict(x_test)"
   ]
  },
  {
   "cell_type": "code",
   "execution_count": 31,
   "metadata": {},
   "outputs": [],
   "source": [
    "mse = mean_squared_error(y_test,y_pred)"
   ]
  },
  {
   "cell_type": "code",
   "execution_count": 32,
   "metadata": {},
   "outputs": [],
   "source": [
    "rmse = np.sqrt(mse)"
   ]
  },
  {
   "cell_type": "code",
   "execution_count": 33,
   "metadata": {},
   "outputs": [
    {
     "name": "stdout",
     "output_type": "stream",
     "text": [
      "0.6463412969752008\n"
     ]
    }
   ],
   "source": [
    "print(rmse)"
   ]
  },
  {
   "cell_type": "code",
   "execution_count": 34,
   "metadata": {},
   "outputs": [
    {
     "name": "stdout",
     "output_type": "stream",
     "text": [
      "[[-0.1021949 ]\n",
      " [-0.3111251 ]\n",
      " [ 0.56821849]\n",
      " [ 0.23071586]\n",
      " [ 0.71745435]\n",
      " [ 0.92868048]\n",
      " [-0.74850095]\n",
      " [-0.32375274]\n",
      " [-0.72898549]\n",
      " [ 0.11591905]]\n"
     ]
    }
   ],
   "source": [
    "print(y_pred[:10])"
   ]
  }
 ],
 "metadata": {
  "kernelspec": {
   "display_name": "Python 3",
   "language": "python",
   "name": "python3"
  },
  "language_info": {
   "codemirror_mode": {
    "name": "ipython",
    "version": 3
   },
   "file_extension": ".py",
   "mimetype": "text/x-python",
   "name": "python",
   "nbconvert_exporter": "python",
   "pygments_lexer": "ipython3",
   "version": "3.7.3"
  }
 },
 "nbformat": 4,
 "nbformat_minor": 2
}
