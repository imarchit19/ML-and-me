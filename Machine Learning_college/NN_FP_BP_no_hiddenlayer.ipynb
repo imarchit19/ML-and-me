{
 "cells": [
  {
   "cell_type": "code",
   "execution_count": 1,
   "metadata": {},
   "outputs": [],
   "source": [
    "import numpy as np"
   ]
  },
  {
   "cell_type": "code",
   "execution_count": 2,
   "metadata": {},
   "outputs": [
    {
     "data": {
      "text/plain": [
       "((4, 2), (4, 1))"
      ]
     },
     "execution_count": 2,
     "metadata": {},
     "output_type": "execute_result"
    }
   ],
   "source": [
    "X=np.array([[0,0],[0,1],[1,0],[1,1]])\n",
    "Y=np.array([[0,0,0,1]]).T\n",
    "X.shape,Y.shape"
   ]
  },
  {
   "cell_type": "code",
   "execution_count": 3,
   "metadata": {},
   "outputs": [],
   "source": [
    "def sig(z):\n",
    "    return 1/(1+np.exp(-z))"
   ]
  },
  {
   "cell_type": "code",
   "execution_count": 4,
   "metadata": {},
   "outputs": [
    {
     "data": {
      "text/plain": [
       "(array([[-0.88507022],\n",
       "        [-0.82377344]]), array([0.90242996]))"
      ]
     },
     "execution_count": 4,
     "metadata": {},
     "output_type": "execute_result"
    }
   ],
   "source": [
    "#no hidden layer\n",
    "weights=np.random.random([2,1])-1\n",
    "bias=2*np.random.random(1)-1\n",
    "weights,bias"
   ]
  },
  {
   "cell_type": "code",
   "execution_count": 5,
   "metadata": {},
   "outputs": [
    {
     "data": {
      "text/plain": [
       "array([[0.7114486 ],\n",
       "       [0.519654  ],\n",
       "       [0.50433983],\n",
       "       [0.30865524]])"
      ]
     },
     "execution_count": 5,
     "metadata": {},
     "output_type": "execute_result"
    }
   ],
   "source": [
    "#forward propagation without hidden layer\n",
    "output0=X\n",
    "output=sig(np.dot(output0,weights)+bias)\n",
    "output"
   ]
  },
  {
   "cell_type": "code",
   "execution_count": 6,
   "metadata": {},
   "outputs": [],
   "source": [
    "def derivativeSig(z):\n",
    "    return sig(z)*(1-sig(z))\n"
   ]
  },
  {
   "cell_type": "code",
   "execution_count": 7,
   "metadata": {},
   "outputs": [
    {
     "data": {
      "text/plain": [
       "(4, 1)"
      ]
     },
     "execution_count": 7,
     "metadata": {},
     "output_type": "execute_result"
    }
   ],
   "source": [
    "\n",
    "first_term=output-Y\n",
    "input_for_last_layer=np.dot(output0,weights)+ bias\n",
    "second_term=derivativeSig(input_for_last_layer)\n",
    "first_two=first_term * second_term\n",
    "first_two.shape"
   ]
  },
  {
   "cell_type": "code",
   "execution_count": 8,
   "metadata": {},
   "outputs": [
    {
     "data": {
      "text/plain": [
       "(array([[-0.8692824 ],\n",
       "        [-0.81282555]]), array([0.63771314]), array([[0.65423633],\n",
       "        [0.45633342],\n",
       "        [0.44236501],\n",
       "        [0.2603029 ]]))"
      ]
     },
     "execution_count": 8,
     "metadata": {},
     "output_type": "execute_result"
    }
   ],
   "source": [
    "#backward propagation without hidden layer\n",
    "lr=0.0001\n",
    "for iter in range(10000):\n",
    "    output0=X\n",
    "    output=sig(np.dot(output0,weights)+bias)\n",
    "    first_term=output-Y\n",
    "    input_for_last_layer=np.dot(output0,weights)* bias\n",
    "    second_term=derivativeSig(input_for_last_layer)\n",
    "    first_two=first_term * second_term\n",
    "    changes=np.array([[0.0],[0.0]])\n",
    "    for i in range(2):\n",
    "        for j in range(4):\n",
    "            changes[i][0]+=first_two[j][0] * output0[j][i]\n",
    "    weights= weights- lr * changes\n",
    "\n",
    "    bias_change=0.0\n",
    "    for j in range(4):\n",
    "        bias_change+=first_two[j][0] * 1\n",
    "    bias=bias-lr* bias_change\n",
    "\n",
    "output=sig(np.dot(X,weights)+bias)\n",
    "weights, bias, output\n",
    "\n",
    "        "
   ]
  },
  {
   "cell_type": "code",
   "execution_count": 9,
   "metadata": {},
   "outputs": [
    {
     "data": {
      "text/plain": [
       "((4, 2), (4, 1))"
      ]
     },
     "execution_count": 9,
     "metadata": {},
     "output_type": "execute_result"
    }
   ],
   "source": [
    "X=np.array([[0,0],[0,1],[1,0],[1,1]])\n",
    "Y=np.array([[0,1,1,1]]).T\n",
    "X.shape,Y.shape"
   ]
  },
  {
   "cell_type": "code",
   "execution_count": 10,
   "metadata": {},
   "outputs": [],
   "source": [
    "def sig(z):\n",
    "    return 1/(1+np.exp(-z))"
   ]
  },
  {
   "cell_type": "code",
   "execution_count": 11,
   "metadata": {},
   "outputs": [
    {
     "data": {
      "text/plain": [
       "(array([[-0.01734341],\n",
       "        [-0.21457669]]), array([0.77795579]))"
      ]
     },
     "execution_count": 11,
     "metadata": {},
     "output_type": "execute_result"
    }
   ],
   "source": [
    "#no hidden layer\n",
    "weights=np.random.random([2,1])-1\n",
    "bias=2*np.random.random(1)-1\n",
    "weights,bias"
   ]
  },
  {
   "cell_type": "code",
   "execution_count": 12,
   "metadata": {},
   "outputs": [
    {
     "data": {
      "text/plain": [
       "array([[0.68523937],\n",
       "       [0.63723404],\n",
       "       [0.68148667],\n",
       "       [0.63321535]])"
      ]
     },
     "execution_count": 12,
     "metadata": {},
     "output_type": "execute_result"
    }
   ],
   "source": [
    "#forward propagation without hidden layer\n",
    "output0=X\n",
    "output=sig(np.dot(output0,weights)+bias)\n",
    "output"
   ]
  },
  {
   "cell_type": "code",
   "execution_count": 13,
   "metadata": {},
   "outputs": [],
   "source": [
    "def derivativeSig(z):\n",
    "    return sig(z)*(1-sig(z))\n"
   ]
  },
  {
   "cell_type": "code",
   "execution_count": 14,
   "metadata": {},
   "outputs": [
    {
     "data": {
      "text/plain": [
       "(4, 1)"
      ]
     },
     "execution_count": 14,
     "metadata": {},
     "output_type": "execute_result"
    }
   ],
   "source": [
    "\n",
    "first_term=output-Y\n",
    "input_for_last_layer=np.dot(output0,weights)+ bias\n",
    "second_term=derivativeSig(input_for_last_layer)\n",
    "first_two=first_term * second_term\n",
    "first_two.shape"
   ]
  },
  {
   "cell_type": "code",
   "execution_count": 30,
   "metadata": {},
   "outputs": [
    {
     "data": {
      "text/plain": [
       "(array([[2.68923785],\n",
       "        [2.66850167]]), array([-2.89171235]), array([[0.05256477],\n",
       "        [0.44442787],\n",
       "        [0.4495536 ],\n",
       "        [0.92172561]]))"
      ]
     },
     "execution_count": 30,
     "metadata": {},
     "output_type": "execute_result"
    }
   ],
   "source": [
    "#backward propagation without hidden layer\n",
    "lr=0.009\n",
    "for iter in range(1900):\n",
    "    output0=X\n",
    "    output=sig(np.dot(output0,weights)+bias)\n",
    "    first_term=output-Y\n",
    "    input_for_last_layer=np.dot(output0,weights)* bias\n",
    "    second_term=derivativeSig(input_for_last_layer)\n",
    "    first_two=first_term * second_term\n",
    "    changes=np.array([[0.0],[0.0]])\n",
    "    for i in range(2):\n",
    "        for j in range(4):\n",
    "            changes[i][0]+=first_two[j][0] * output0[j][i]\n",
    "    weights= weights- lr * changes\n",
    "\n",
    "    bias_change=0.0\n",
    "    for j in range(4):\n",
    "        bias_change+=first_two[j][0] * 1\n",
    "    bias=bias-lr* bias_change\n",
    "\n",
    "output=sig(np.dot(X,weights)+bias)\n",
    "weights, bias, output\n",
    "\n",
    "        "
   ]
  },
  {
   "cell_type": "code",
   "execution_count": null,
   "metadata": {},
   "outputs": [],
   "source": []
  },
  {
   "cell_type": "code",
   "execution_count": null,
   "metadata": {},
   "outputs": [],
   "source": []
  }
 ],
 "metadata": {
  "kernelspec": {
   "display_name": "Python 3",
   "language": "python",
   "name": "python3"
  },
  "language_info": {
   "codemirror_mode": {
    "name": "ipython",
    "version": 3
   },
   "file_extension": ".py",
   "mimetype": "text/x-python",
   "name": "python",
   "nbconvert_exporter": "python",
   "pygments_lexer": "ipython3",
   "version": "3.7.3"
  }
 },
 "nbformat": 4,
 "nbformat_minor": 2
}
