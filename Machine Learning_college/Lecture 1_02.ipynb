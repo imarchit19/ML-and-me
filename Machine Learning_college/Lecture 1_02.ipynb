{
 "cells": [
  {
   "cell_type": "markdown",
   "metadata": {},
   "source": [
    "##### 1) Prime No.s (Both with break and not)"
   ]
  },
  {
   "cell_type": "code",
   "execution_count": 1,
   "metadata": {},
   "outputs": [
    {
     "name": "stdout",
     "output_type": "stream",
     "text": [
      "Enter a number 45\n",
      "Given no. is not Prime\n"
     ]
    }
   ],
   "source": [
    "n = int(input(\"Enter a number \"))\n",
    "\n",
    "count = 0\n",
    "for i in range(2, n):\n",
    "    if(n%i):\n",
    "        count = count + 1\n",
    "        \n",
    "if(count == 1):\n",
    "    print(\"Prime No.\")\n",
    "else:\n",
    "    print(\"Given no. is not Prime\")"
   ]
  },
  {
   "cell_type": "code",
   "execution_count": 2,
   "metadata": {},
   "outputs": [
    {
     "name": "stdout",
     "output_type": "stream",
     "text": [
      "Enter a number 34\n",
      "Given no. is not Prime\n"
     ]
    }
   ],
   "source": [
    "n = int(input(\"Enter a number \"))\n",
    "\n",
    "count = True\n",
    "for i in range(2, n):\n",
    "    if(n%i):\n",
    "        count = False\n",
    "        break\n",
    "        \n",
    "if(count == True):\n",
    "    print(\"Prime No.\")\n",
    "else:\n",
    "    print(\"Given no. is not Prime\")"
   ]
  },
  {
   "cell_type": "markdown",
   "metadata": {},
   "source": [
    "##### 2) If no. is positive, negative or Zero"
   ]
  },
  {
   "cell_type": "code",
   "execution_count": 3,
   "metadata": {},
   "outputs": [
    {
     "name": "stdout",
     "output_type": "stream",
     "text": [
      "Enter a number -8\n",
      "Negative No.\n"
     ]
    }
   ],
   "source": [
    "no = int(input(\"Enter a number \"))\n",
    "\n",
    "if(no == 0):\n",
    "    print(\"Zero\")\n",
    "elif(no > 0):\n",
    "    print(\"Positive No.\")\n",
    "else:\n",
    "    print(\"Negative No.\")"
   ]
  },
  {
   "cell_type": "markdown",
   "metadata": {},
   "source": [
    "##### 3) Check if no is odd or even"
   ]
  },
  {
   "cell_type": "code",
   "execution_count": 4,
   "metadata": {},
   "outputs": [
    {
     "name": "stdout",
     "output_type": "stream",
     "text": [
      "Enter a number 34\n",
      "Even\n"
     ]
    }
   ],
   "source": [
    "num = int(input(\"Enter a number \"))\n",
    "\n",
    "if(num == 0):\n",
    "    print(\"Neither\") \n",
    "\n",
    "if(num % 2 == 0):\n",
    "    print(\"Even\")\n",
    "else:\n",
    "    print(\"Odd\")"
   ]
  },
  {
   "cell_type": "markdown",
   "metadata": {},
   "source": [
    "##### 4) Print all prime no.s in an interval"
   ]
  },
  {
   "cell_type": "code",
   "execution_count": 5,
   "metadata": {},
   "outputs": [
    {
     "name": "stdout",
     "output_type": "stream",
     "text": [
      "Enter initial number 20\n",
      "Enter final number 30\n",
      "23\n",
      "29\n"
     ]
    }
   ],
   "source": [
    "def prime(n):\n",
    "    count = True\n",
    "    for i in range(2, n):\n",
    "        if(n%i == 0):\n",
    "            count = False\n",
    "            break\n",
    "    return count\n",
    "\n",
    "no_i = int(input(\"Enter initial number \"))\n",
    "no_f = int(input(\"Enter final number \"))\n",
    "\n",
    "for i in range(no_i,no_f):\n",
    "    if(prime(i)):\n",
    "        print(i)"
   ]
  },
  {
   "cell_type": "markdown",
   "metadata": {},
   "source": [
    "##### 5) Check if leap year or not"
   ]
  },
  {
   "cell_type": "code",
   "execution_count": 6,
   "metadata": {},
   "outputs": [
    {
     "name": "stdout",
     "output_type": "stream",
     "text": [
      "Enter year 2001\n",
      "Not Leap Year \n"
     ]
    }
   ],
   "source": [
    "year = int(input(\"Enter year \"))\n",
    "\n",
    "if(year % 4 == 0):\n",
    "    if(year % 100 == 0 or year % 400 == 0):\n",
    "        print(\"Leap Year \")\n",
    "    else:\n",
    "        print(\"Not Leap Year \")\n",
    "else:\n",
    "    print(\"Not Leap Year \")"
   ]
  },
  {
   "cell_type": "markdown",
   "metadata": {},
   "source": [
    "##### 6) Bubble Sort"
   ]
  },
  {
   "cell_type": "code",
   "execution_count": 7,
   "metadata": {},
   "outputs": [
    {
     "name": "stdout",
     "output_type": "stream",
     "text": [
      "[0, 1, 3, 4, 4, 9, 10, 12]\n"
     ]
    }
   ],
   "source": [
    "arr = [10, 3, 9, 12, 1, 4, 0, 4]\n",
    "\n",
    "for j in range(len(arr)):\n",
    "    for i in range(0, len(arr) - 1):\n",
    "        if(arr[i] > arr[i + 1]):\n",
    "            temp = arr[i]\n",
    "            arr[i] = arr[i + 1]\n",
    "            arr[i + 1] = temp\n",
    "            \n",
    "print(arr)"
   ]
  },
  {
   "cell_type": "markdown",
   "metadata": {},
   "source": [
    "##### 7) Selection Sort"
   ]
  },
  {
   "cell_type": "code",
   "execution_count": 8,
   "metadata": {},
   "outputs": [
    {
     "name": "stdout",
     "output_type": "stream",
     "text": [
      "[0, 1, 3, 4, 4, 9, 10, 12]\n"
     ]
    }
   ],
   "source": [
    "arr1 = [10, 3, 9, 12, 1, 4, 0, 4]\n",
    "\n",
    "for i in range(0, len(arr1)):\n",
    "    for j in range(i + 1, len(arr1)):\n",
    "        if(arr1[i] > arr1[j]):\n",
    "            temp = arr1[i]\n",
    "            arr1[i] = arr1[j]\n",
    "            arr1[j] = temp\n",
    "            \n",
    "print(arr1)"
   ]
  },
  {
   "cell_type": "markdown",
   "metadata": {},
   "source": [
    "##### 8) Fibonacci Series"
   ]
  },
  {
   "cell_type": "code",
   "execution_count": 9,
   "metadata": {},
   "outputs": [
    {
     "name": "stdout",
     "output_type": "stream",
     "text": [
      "Enter Series Length 9\n",
      "0 1 1 2 3 5 8 13 21 "
     ]
    }
   ],
   "source": [
    "a = 0\n",
    "b = 1\n",
    "num = int(input(\"Enter Series Length \"))\n",
    "print(a, end = \" \")\n",
    "print(b, end = \" \")\n",
    "for i in range(3, num + 1):\n",
    "    i = a + b\n",
    "    a = b\n",
    "    b = i\n",
    "    print(i, end = \" \")"
   ]
  },
  {
   "cell_type": "markdown",
   "metadata": {},
   "source": [
    "##### 9) Armstrong Numbers"
   ]
  },
  {
   "cell_type": "code",
   "execution_count": 10,
   "metadata": {},
   "outputs": [
    {
     "name": "stdout",
     "output_type": "stream",
     "text": [
      "Enter a number 12\n",
      "Not an Armstrong number\n"
     ]
    }
   ],
   "source": [
    "num = int(input(\"Enter a number \"))\n",
    "count = 0\n",
    "temp = num\n",
    "while (temp > 0):\n",
    "   letter = temp % 10\n",
    "   count = count + letter ** 3\n",
    "   temp = temp // 10\n",
    "\n",
    "if (num == count):\n",
    "   print(\"It is an Armstrong number\")\n",
    "else:\n",
    "   print(\"Not an Armstrong number\")"
   ]
  },
  {
   "cell_type": "markdown",
   "metadata": {},
   "source": [
    "##### 10) Number Pattern"
   ]
  },
  {
   "cell_type": "code",
   "execution_count": 11,
   "metadata": {},
   "outputs": [
    {
     "name": "stdout",
     "output_type": "stream",
     "text": [
      "Enter the final length of sequence 4\n",
      "\n",
      "\n",
      "1 \n",
      "\n",
      "1 2 \n",
      "\n",
      "1 2 3 \n",
      "\n",
      "1 2 3 4 \n",
      "\n"
     ]
    }
   ],
   "source": [
    "num = int(input(\"Enter the final length of sequence \"))\n",
    "i = 0\n",
    "while(i < num + 1):\n",
    "    temp = 1\n",
    "    while(temp < i + 1):\n",
    "        print(temp, end = \" \")\n",
    "        temp = temp + 1\n",
    "    i = i + 1\n",
    "    print(\"\\n\")"
   ]
  },
  {
   "cell_type": "code",
   "execution_count": null,
   "metadata": {},
   "outputs": [],
   "source": []
  }
 ],
 "metadata": {
  "kernelspec": {
   "display_name": "Python 3",
   "language": "python",
   "name": "python3"
  },
  "language_info": {
   "codemirror_mode": {
    "name": "ipython",
    "version": 3
   },
   "file_extension": ".py",
   "mimetype": "text/x-python",
   "name": "python",
   "nbconvert_exporter": "python",
   "pygments_lexer": "ipython3",
   "version": "3.6.6"
  }
 },
 "nbformat": 4,
 "nbformat_minor": 2
}
